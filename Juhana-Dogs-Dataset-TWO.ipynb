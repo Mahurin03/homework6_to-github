{
 "cells": [
  {
   "cell_type": "markdown",
   "metadata": {},
   "source": [
    "# Homework 6, Part Two: A dataset about dogs.\n",
    "\n",
    "Data from [a FOIL request to New York City](https://www.muckrock.com/foi/new-york-city-17/pet-licensing-data-for-new-york-city-23826/)"
   ]
  },
  {
   "cell_type": "markdown",
   "metadata": {},
   "source": [
    "## This is a late submission. I struggled to gain traction and ran out of time before Tuesday's deadline. So I put some finishing touches and submit it now."
   ]
  },
  {
   "cell_type": "markdown",
   "metadata": {},
   "source": [
    "## Do your importing and your setup"
   ]
  },
  {
   "cell_type": "code",
   "execution_count": 2,
   "metadata": {},
   "outputs": [],
   "source": [
    "import pandas as pd"
   ]
  },
  {
   "cell_type": "code",
   "execution_count": 3,
   "metadata": {},
   "outputs": [
    {
     "name": "stdout",
     "output_type": "stream",
     "text": [
      "boro_population.csv\n",
      "Juhana-Dogs-Dataset-TWO.ipynb\n",
      "NYC_Dog_Licenses_Current_as_of_4-28-2016.xlsx\n",
      "zipcodes-neighborhoods.csv\n"
     ]
    }
   ],
   "source": [
    "!ls"
   ]
  },
  {
   "cell_type": "markdown",
   "metadata": {},
   "source": [
    "## Read in the file `NYC_Dog_Licenses_Current_as_of_4-28-2016.xlsx` and look at the first five rows"
   ]
  },
  {
   "cell_type": "code",
   "execution_count": 4,
   "metadata": {},
   "outputs": [],
   "source": [
    "df = pd.read_excel(\"NYC_Dog_Licenses_Current_as_of_4-28-2016.xlsx\", nrows=30000)"
   ]
  },
  {
   "cell_type": "markdown",
   "metadata": {},
   "source": [
    "## How many rows do you have in the data? What are the column types?\n",
    "\n",
    "If there are more than 30,000 rows in your dataset, go back and only read in the first 30,000."
   ]
  },
  {
   "cell_type": "code",
   "execution_count": 5,
   "metadata": {},
   "outputs": [
    {
     "data": {
      "text/plain": [
       "(30000, 15)"
      ]
     },
     "execution_count": 5,
     "metadata": {},
     "output_type": "execute_result"
    }
   ],
   "source": [
    "df.shape"
   ]
  },
  {
   "cell_type": "code",
   "execution_count": 6,
   "metadata": {},
   "outputs": [
    {
     "data": {
      "text/html": [
       "<div>\n",
       "<style scoped>\n",
       "    .dataframe tbody tr th:only-of-type {\n",
       "        vertical-align: middle;\n",
       "    }\n",
       "\n",
       "    .dataframe tbody tr th {\n",
       "        vertical-align: top;\n",
       "    }\n",
       "\n",
       "    .dataframe thead th {\n",
       "        text-align: right;\n",
       "    }\n",
       "</style>\n",
       "<table border=\"1\" class=\"dataframe\">\n",
       "  <thead>\n",
       "    <tr style=\"text-align: right;\">\n",
       "      <th></th>\n",
       "      <th>Owner Zip Code</th>\n",
       "      <th>Animal Name</th>\n",
       "      <th>Animal Gender</th>\n",
       "      <th>Primary Breed</th>\n",
       "      <th>Secondary Breed</th>\n",
       "      <th>Animal Dominant Color</th>\n",
       "      <th>Animal Secondary Color</th>\n",
       "      <th>Animal Third Color</th>\n",
       "      <th>Animal Birth</th>\n",
       "      <th>Spayed or Neut</th>\n",
       "      <th>Guard or Trained</th>\n",
       "      <th>Vaccinated</th>\n",
       "      <th>Application Date</th>\n",
       "      <th>License Issued Date</th>\n",
       "      <th>License Expired Date</th>\n",
       "    </tr>\n",
       "  </thead>\n",
       "  <tbody>\n",
       "    <tr>\n",
       "      <th>0</th>\n",
       "      <td>10024</td>\n",
       "      <td>BLUE MACK</td>\n",
       "      <td>M</td>\n",
       "      <td>Unknown</td>\n",
       "      <td>AIREDALE TERR</td>\n",
       "      <td>BROWN</td>\n",
       "      <td>BLACK</td>\n",
       "      <td>NaN</td>\n",
       "      <td>2007-11-01</td>\n",
       "      <td>Yes</td>\n",
       "      <td>No</td>\n",
       "      <td>Yes</td>\n",
       "      <td>2012-09-19 16:01:19.647</td>\n",
       "      <td>2015-09-19</td>\n",
       "      <td>2016-09-19</td>\n",
       "    </tr>\n",
       "    <tr>\n",
       "      <th>1</th>\n",
       "      <td>10461</td>\n",
       "      <td>Indie Zephir</td>\n",
       "      <td>M</td>\n",
       "      <td>Rottweiler</td>\n",
       "      <td>NaN</td>\n",
       "      <td>BLACK</td>\n",
       "      <td>TAN</td>\n",
       "      <td>NaN</td>\n",
       "      <td>2013-04-01</td>\n",
       "      <td>No</td>\n",
       "      <td>No</td>\n",
       "      <td>Yes</td>\n",
       "      <td>2013-09-20 11:41:36.647</td>\n",
       "      <td>2014-09-20</td>\n",
       "      <td>2018-09-20</td>\n",
       "    </tr>\n",
       "    <tr>\n",
       "      <th>2</th>\n",
       "      <td>10013</td>\n",
       "      <td>Bilal</td>\n",
       "      <td>M</td>\n",
       "      <td>Australian Cattledog</td>\n",
       "      <td>NaN</td>\n",
       "      <td>Rust</td>\n",
       "      <td>NaN</td>\n",
       "      <td>NaN</td>\n",
       "      <td>2014-09-01</td>\n",
       "      <td>Yes</td>\n",
       "      <td>NaN</td>\n",
       "      <td>No</td>\n",
       "      <td>2014-09-12 13:13:36.713</td>\n",
       "      <td>2014-09-12</td>\n",
       "      <td>2019-09-12</td>\n",
       "    </tr>\n",
       "    <tr>\n",
       "      <th>3</th>\n",
       "      <td>10025</td>\n",
       "      <td>Buddy</td>\n",
       "      <td>M</td>\n",
       "      <td>Unknown</td>\n",
       "      <td>Cockapoo</td>\n",
       "      <td>BLOND</td>\n",
       "      <td>WHITE</td>\n",
       "      <td>NaN</td>\n",
       "      <td>2008-04-01</td>\n",
       "      <td>Yes</td>\n",
       "      <td>No</td>\n",
       "      <td>Yes</td>\n",
       "      <td>2014-09-12 15:26:51.417</td>\n",
       "      <td>2014-09-12</td>\n",
       "      <td>2017-10-20</td>\n",
       "    </tr>\n",
       "    <tr>\n",
       "      <th>4</th>\n",
       "      <td>10013</td>\n",
       "      <td>Ali</td>\n",
       "      <td>M</td>\n",
       "      <td>Basenji</td>\n",
       "      <td>NaN</td>\n",
       "      <td>Black</td>\n",
       "      <td>NaN</td>\n",
       "      <td>NaN</td>\n",
       "      <td>2014-01-01</td>\n",
       "      <td>No</td>\n",
       "      <td>NaN</td>\n",
       "      <td>No</td>\n",
       "      <td>2014-09-12 15:43:17.707</td>\n",
       "      <td>2014-09-12</td>\n",
       "      <td>2019-09-12</td>\n",
       "    </tr>\n",
       "  </tbody>\n",
       "</table>\n",
       "</div>"
      ],
      "text/plain": [
       "   Owner Zip Code   Animal Name Animal Gender         Primary Breed  \\\n",
       "0           10024     BLUE MACK             M               Unknown   \n",
       "1           10461  Indie Zephir             M            Rottweiler   \n",
       "2           10013         Bilal             M  Australian Cattledog   \n",
       "3           10025         Buddy             M               Unknown   \n",
       "4           10013           Ali             M               Basenji   \n",
       "\n",
       "  Secondary Breed Animal Dominant Color Animal Secondary Color  \\\n",
       "0   AIREDALE TERR                 BROWN                  BLACK   \n",
       "1             NaN                 BLACK                    TAN   \n",
       "2             NaN                  Rust                    NaN   \n",
       "3        Cockapoo                 BLOND                  WHITE   \n",
       "4             NaN                 Black                    NaN   \n",
       "\n",
       "  Animal Third Color Animal Birth Spayed or Neut Guard or Trained Vaccinated  \\\n",
       "0                NaN   2007-11-01            Yes               No        Yes   \n",
       "1                NaN   2013-04-01             No               No        Yes   \n",
       "2                NaN   2014-09-01            Yes              NaN         No   \n",
       "3                NaN   2008-04-01            Yes               No        Yes   \n",
       "4                NaN   2014-01-01             No              NaN         No   \n",
       "\n",
       "         Application Date License Issued Date License Expired Date  \n",
       "0 2012-09-19 16:01:19.647          2015-09-19           2016-09-19  \n",
       "1 2013-09-20 11:41:36.647          2014-09-20           2018-09-20  \n",
       "2 2014-09-12 13:13:36.713          2014-09-12           2019-09-12  \n",
       "3 2014-09-12 15:26:51.417          2014-09-12           2017-10-20  \n",
       "4 2014-09-12 15:43:17.707          2014-09-12           2019-09-12  "
      ]
     },
     "execution_count": 6,
     "metadata": {},
     "output_type": "execute_result"
    }
   ],
   "source": [
    "df.head()"
   ]
  },
  {
   "cell_type": "markdown",
   "metadata": {},
   "source": [
    "## Describe the dataset in words. What is each row? List two column titles along with what each of those columns means.\n",
    "\n",
    "For example: “Each row is an animal in the zoo. `is_reptile` is whether the animal is a reptile or not”"
   ]
  },
  {
   "cell_type": "code",
   "execution_count": null,
   "metadata": {},
   "outputs": [],
   "source": [
    "#Each row is a dog which has received a god licended in NYC\n",
    "#['Animal Gender'] discloses whether the animal is male (M) or female (F)\n",
    "##['Animal Birth'] discloses the dog's birthday"
   ]
  },
  {
   "cell_type": "markdown",
   "metadata": {},
   "source": [
    "# Your thoughts\n",
    "\n",
    "Think of four questions you could ask this dataset. **Don't ask them**, just write them down in the cell below. Feel free to use either Markdown or Python comments."
   ]
  },
  {
   "cell_type": "code",
   "execution_count": null,
   "metadata": {},
   "outputs": [],
   "source": [
    "# Question 1: Which zip code has most licensed dogs?\n",
    "# Question 2: What is the most popular dominant color among male dogs?\n",
    "# Question 3: Which year has most animal births?\n",
    "# Question 4: What is the rarest primary breed?"
   ]
  },
  {
   "cell_type": "markdown",
   "metadata": {},
   "source": [
    "# Looking at some dogs"
   ]
  },
  {
   "cell_type": "markdown",
   "metadata": {},
   "source": [
    "## What are the most popular (primary) breeds of dogs? Graph the top 10."
   ]
  },
  {
   "cell_type": "code",
   "execution_count": 8,
   "metadata": {},
   "outputs": [
    {
     "data": {
      "text/plain": [
       "Unknown                                 4777\n",
       "Yorkshire Terrier                       1882\n",
       "Shih Tzu                                1760\n",
       "Chihuahua                               1535\n",
       "Maltese                                 1133\n",
       "Labrador Retriever                      1074\n",
       "American Pit Bull Terrier/Pit Bull       780\n",
       "Labrador Retriever Crossbreed            738\n",
       "American Pit Bull Mix / Pit Bull Mix     722\n",
       "Jack Russell Terrier                     553\n",
       "Name: Primary Breed, dtype: int64"
      ]
     },
     "execution_count": 8,
     "metadata": {},
     "output_type": "execute_result"
    }
   ],
   "source": [
    "df['Primary Breed'].value_counts().head(10)"
   ]
  },
  {
   "cell_type": "markdown",
   "metadata": {},
   "source": [
    "## \"Unknown\" is a terrible breed! Graph the top 10 breeds that are NOT Unknown"
   ]
  },
  {
   "cell_type": "code",
   "execution_count": 26,
   "metadata": {},
   "outputs": [
    {
     "data": {
      "text/plain": [
       "<AxesSubplot: >"
      ]
     },
     "execution_count": 26,
     "metadata": {},
     "output_type": "execute_result"
    },
    {
     "data": {
      "image/png": "[encoded data removed]",
      "text/plain": [
       "<Figure size 640x480 with 1 Axes>"
      ]
     },
     "metadata": {},
     "output_type": "display_data"
    }
   ],
   "source": [
    "df['Primary Breed'].value_counts().head(10).plot(kind='barh')"
   ]
  },
  {
   "cell_type": "code",
   "execution_count": null,
   "metadata": {},
   "outputs": [],
   "source": []
  },
  {
   "cell_type": "markdown",
   "metadata": {},
   "source": [
    "## What are the most popular dog names?"
   ]
  },
  {
   "cell_type": "code",
   "execution_count": 17,
   "metadata": {},
   "outputs": [
    {
     "data": {
      "text/plain": [
       "UNKNOWN    203\n",
       "Max        202\n",
       "Unknown    197\n",
       "Bella      193\n",
       "Charlie    172\n",
       "Lola       146\n",
       "Rocky      140\n",
       "Lucy       128\n",
       "Coco       114\n",
       "Buddy      113\n",
       "Name: Animal Name, dtype: int64"
      ]
     },
     "execution_count": 17,
     "metadata": {},
     "output_type": "execute_result"
    }
   ],
   "source": [
    "df['Animal Name'].value_counts().head(10)"
   ]
  },
  {
   "cell_type": "markdown",
   "metadata": {},
   "source": [
    "## Do any dogs have your name? How many dogs are named \"Max,\" and how many are named \"Maxwell\"?"
   ]
  },
  {
   "cell_type": "code",
   "execution_count": 33,
   "metadata": {},
   "outputs": [
    {
     "ename": "AttributeError",
     "evalue": "'bool' object has no attribute 'value_counts'",
     "output_type": "error",
     "traceback": [
      "\u001b[1;31m---------------------------------------------------------------------------\u001b[0m",
      "\u001b[1;31mAttributeError\u001b[0m                            Traceback (most recent call last)",
      "Cell \u001b[1;32mIn [33], line 1\u001b[0m\n\u001b[1;32m----> 1\u001b[0m df[\u001b[43m(\u001b[49m\u001b[43m[\u001b[49m\u001b[38;5;124;43m'\u001b[39;49m\u001b[38;5;124;43mAnimal Name\u001b[39;49m\u001b[38;5;124;43m'\u001b[39;49m\u001b[43m]\u001b[49m\u001b[43m \u001b[49m\u001b[38;5;241;43m==\u001b[39;49m\u001b[43m \u001b[49m\u001b[38;5;124;43m'\u001b[39;49m\u001b[38;5;124;43mMax\u001b[39;49m\u001b[38;5;124;43m'\u001b[39;49m\u001b[43m)\u001b[49m\u001b[38;5;241;43m.\u001b[39;49m\u001b[43mvalue_counts\u001b[49m()]\n",
      "\u001b[1;31mAttributeError\u001b[0m: 'bool' object has no attribute 'value_counts'"
     ]
    }
   ],
   "source": [
    "df[(['Animal Name'] == 'Max').value_counts()]\n"
   ]
  },
  {
   "cell_type": "markdown",
   "metadata": {},
   "source": [
    "## What percentage of dogs are guard dogs?\n",
    "\n",
    "Check out the documentation for [value counts](https://pandas.pydata.org/pandas-docs/stable/generated/pandas.Series.value_counts.html)."
   ]
  },
  {
   "cell_type": "code",
   "execution_count": 39,
   "metadata": {},
   "outputs": [
    {
     "data": {
      "text/plain": [
       "No     99.914254\n",
       "Yes     0.085746\n",
       "Name: Guard or Trained, dtype: float64"
      ]
     },
     "execution_count": 39,
     "metadata": {},
     "output_type": "execute_result"
    }
   ],
   "source": [
    "df['Guard or Trained'].value_counts(normalize=True)*100"
   ]
  },
  {
   "cell_type": "markdown",
   "metadata": {},
   "source": [
    "## What are the actual numbers?"
   ]
  },
  {
   "cell_type": "code",
   "execution_count": 40,
   "metadata": {},
   "outputs": [
    {
     "data": {
      "text/plain": [
       "No     19809\n",
       "Yes       17\n",
       "Name: Guard or Trained, dtype: int64"
      ]
     },
     "execution_count": 40,
     "metadata": {},
     "output_type": "execute_result"
    }
   ],
   "source": [
    "df['Guard or Trained'].value_counts()"
   ]
  },
  {
   "cell_type": "markdown",
   "metadata": {},
   "source": [
    "## Wait... if you add that up, is it the same as your number of rows? Where are the other dogs???? How can we find them??????\n",
    "\n",
    "Use your `.head()` to think about it, then you'll do some magic with `.value_counts()`"
   ]
  },
  {
   "cell_type": "code",
   "execution_count": 41,
   "metadata": {},
   "outputs": [
    {
     "data": {
      "text/plain": [
       "0     No\n",
       "1     No\n",
       "2    NaN\n",
       "3     No\n",
       "4    NaN\n",
       "Name: Guard or Trained, dtype: object"
      ]
     },
     "execution_count": 41,
     "metadata": {},
     "output_type": "execute_result"
    }
   ],
   "source": [
    "df['Guard or Trained'].head()"
   ]
  },
  {
   "cell_type": "markdown",
   "metadata": {},
   "source": [
    "## Fill in all of those empty \"Guard or Trained\" columns with \"No\"\n",
    "\n",
    "Then check your result with another `.value_counts()`"
   ]
  },
  {
   "cell_type": "code",
   "execution_count": null,
   "metadata": {},
   "outputs": [],
   "source": []
  },
  {
   "cell_type": "markdown",
   "metadata": {},
   "source": [
    "## What are the top dog breeds for guard dogs? "
   ]
  },
  {
   "cell_type": "code",
   "execution_count": null,
   "metadata": {},
   "outputs": [],
   "source": []
  },
  {
   "cell_type": "markdown",
   "metadata": {},
   "source": [
    "## Create a new column called \"year\" that is the dog's year of birth\n",
    "\n",
    "The `Animal Birth` column is a datetime, so you can get the year out of it with the code `df['Animal Birth'].apply(lambda birth: birth.year)`."
   ]
  },
  {
   "cell_type": "code",
   "execution_count": null,
   "metadata": {},
   "outputs": [],
   "source": []
  },
  {
   "cell_type": "markdown",
   "metadata": {},
   "source": [
    "## Calculate a new column called “age” that shows approximately how old the dog is. How old are dogs on average?"
   ]
  },
  {
   "cell_type": "code",
   "execution_count": null,
   "metadata": {},
   "outputs": [],
   "source": []
  },
  {
   "cell_type": "markdown",
   "metadata": {},
   "source": [
    "# Joining data together"
   ]
  },
  {
   "cell_type": "code",
   "execution_count": null,
   "metadata": {},
   "outputs": [],
   "source": []
  },
  {
   "cell_type": "markdown",
   "metadata": {},
   "source": [
    "## Which neighborhood does each dog live in?\n",
    "\n",
    "You also have a (terrible) list of NYC neighborhoods in `zipcodes-neighborhoods.csv`. Join these two datasets together, so we know what neighborhood each dog lives in. **Be sure to not read it in as `df`, or else you'll overwrite your dogs dataframe.**"
   ]
  },
  {
   "cell_type": "code",
   "execution_count": null,
   "metadata": {},
   "outputs": [],
   "source": []
  },
  {
   "cell_type": "markdown",
   "metadata": {},
   "source": [
    "## What is the most popular dog name in all parts of the Bronx? How about Brooklyn? The Upper East Side?"
   ]
  },
  {
   "cell_type": "code",
   "execution_count": null,
   "metadata": {},
   "outputs": [],
   "source": []
  },
  {
   "cell_type": "markdown",
   "metadata": {},
   "source": [
    "## What is the most common dog breed in each of the neighborhoods of NYC?"
   ]
  },
  {
   "cell_type": "code",
   "execution_count": null,
   "metadata": {},
   "outputs": [],
   "source": []
  },
  {
   "cell_type": "code",
   "execution_count": null,
   "metadata": {},
   "outputs": [],
   "source": []
  },
  {
   "cell_type": "markdown",
   "metadata": {},
   "source": [
    "## What breed of dogs are the least likely to be spayed? Male or female?"
   ]
  },
  {
   "cell_type": "code",
   "execution_count": null,
   "metadata": {},
   "outputs": [],
   "source": []
  },
  {
   "cell_type": "markdown",
   "metadata": {},
   "source": [
    "## Make a new column called monochrome that is True for any animal that only has black, white or grey as one of its colors. How many animals are monochrome?"
   ]
  },
  {
   "cell_type": "code",
   "execution_count": null,
   "metadata": {},
   "outputs": [],
   "source": []
  },
  {
   "cell_type": "markdown",
   "metadata": {},
   "source": [
    "## How many dogs are in each borough? Plot it in a graph."
   ]
  },
  {
   "cell_type": "code",
   "execution_count": null,
   "metadata": {},
   "outputs": [],
   "source": []
  },
  {
   "cell_type": "markdown",
   "metadata": {},
   "source": [
    "## Which borough has the highest number of dogs per-capita?\n",
    "\n",
    "You’ll need to merge in `population_boro.csv`"
   ]
  },
  {
   "cell_type": "code",
   "execution_count": null,
   "metadata": {},
   "outputs": [],
   "source": []
  },
  {
   "cell_type": "markdown",
   "metadata": {},
   "source": [
    "## Make a bar graph of the top 5 breeds in each borough.\n",
    "\n",
    "How do you groupby and then only take the top X number? You **really** should ask me, because it's kind of crazy."
   ]
  },
  {
   "cell_type": "code",
   "execution_count": null,
   "metadata": {},
   "outputs": [],
   "source": []
  },
  {
   "cell_type": "markdown",
   "metadata": {},
   "source": [
    "## What percentage of dogs are not guard dogs?"
   ]
  },
  {
   "cell_type": "code",
   "execution_count": null,
   "metadata": {},
   "outputs": [],
   "source": []
  }
 ],
 "metadata": {
  "kernelspec": {
   "display_name": "Python 3 (ipykernel)",
   "language": "python",
   "name": "python3"
  },
  "language_info": {
   "codemirror_mode": {
    "name": "ipython",
    "version": 3
   },
   "file_extension": ".py",
   "mimetype": "text/x-python",
   "name": "python",
   "nbconvert_exporter": "python",
   "pygments_lexer": "ipython3",
   "version": "3.11.0rc2"
  }
 },
 "nbformat": 4,
 "nbformat_minor": 2
}
